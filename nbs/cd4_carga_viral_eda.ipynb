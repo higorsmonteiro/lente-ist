{
 "cells": [
  {
   "cell_type": "markdown",
   "metadata": {},
   "source": [
    "# **linkage SISCEL**"
   ]
  },
  {
   "cell_type": "code",
   "execution_count": 42,
   "metadata": {},
   "outputs": [],
   "source": [
    "from pathlib import Path\n",
    "from simpledbf import Dbf5\n",
    "import numpy as np\n",
    "import pandas as pd\n",
    "from unidecode import unidecode"
   ]
  },
  {
   "cell_type": "markdown",
   "metadata": {},
   "source": [
    "**Load not structured SISCEL and create a unified and structured dataset for further processing**"
   ]
  },
  {
   "cell_type": "code",
   "execution_count": 40,
   "metadata": {},
   "outputs": [
    {
     "name": "stdout",
     "output_type": "stream",
     "text": [
      "['ano de 2020 Carga viral', 'ano de 2021 carga viral', 'ano de 2022 carga viral', 'ano de 2023 Carga viral', 'ano de 2024 carga viral']\n",
      "['CD 4  2020']\n"
     ]
    },
    {
     "name": "stderr",
     "output_type": "stream",
     "text": [
      "C:\\Users\\higor.monteiro\\AppData\\Local\\Temp\\ipykernel_18908\\2532755718.py:18: FutureWarning: The behavior of DataFrame concatenation with empty or all-NA entries is deprecated. In a future version, this will no longer exclude empty or all-NA columns when determining the result dtypes. To retain the old behavior, exclude the relevant entries before the concat operation.\n",
      "  df = pd.concat(df)\n"
     ]
    }
   ],
   "source": [
    "basepath = Path.home().joinpath(\"Documents\", \"data\")\n",
    "cargaviralpath = basepath.joinpath(\"carga_viral_hiv\")\n",
    "\n",
    "folders = list(cargaviralpath.glob(\"*\"))\n",
    "cargaviral_folders = [ elem for elem in folders if 'viral' in elem.stem ]\n",
    "cd4_folders = [ elem for elem in folders if 'viral' not in elem.stem ]\n",
    "\n",
    "def open_folder(current_folder):\n",
    "    '''\n",
    "        load all csv files from the parsed folder and concatenate \n",
    "        them into a single file.\n",
    "    '''\n",
    "    list_of_files = current_folder.glob(\"*.csv\")\n",
    "    df = []\n",
    "    for current_file in list_of_files:\n",
    "        cur_df = pd.read_csv(current_file, delimiter=\";\", encoding='latin', skiprows=10)\n",
    "        df.append(cur_df)\n",
    "    df = pd.concat(df)\n",
    "    return df\n",
    "\n",
    "print([ elem.stem for elem in cargaviral_folders ])\n",
    "print([ elem.stem for elem in cd4_folders ])\n",
    "\n",
    "carga2020 = open_folder(cargaviral_folders[0])\n",
    "carga2021 = open_folder(cargaviral_folders[1])\n",
    "carga2022 = open_folder(cargaviral_folders[2])\n",
    "carga2023 = open_folder(cargaviral_folders[3])\n",
    "carga2024 = open_folder(cargaviral_folders[4])\n",
    "\n",
    "cd4_2020 = open_folder(cd4_folders[0])\n",
    "\n",
    "# -- save joined dataset (not processed)\n",
    "carga_viral_df = pd.concat([carga2020, carga2021, carga2022, carga2023, carga2024])\n",
    "carga_viral_df = carga_viral_df.reset_index(drop=True)\n",
    "carga_viral_df[\"TIPO\"] = [ \"CV\" for n in range(carga_viral_df.shape[0]) ]\n",
    "\n",
    "cd4_2020 = cd4_2020.reset_index(drop=True)\n",
    "cd4_2020[\"TIPO\"] = [ \"CD4\" for n in range(cd4_2020.shape[0]) ]\n",
    "\n",
    "siscel_df = pd.concat([carga_viral_df, cd4_2020], ignore_index=True, axis=0)\n",
    "siscel_df[\"Idade Gestacional\"] = siscel_df[\"Idade Gestacional\"].astype(str).apply(lambda x: x.replace(\"nan\", \"\"))\n",
    "siscel_df.to_parquet(basepath.joinpath(\"sinan\", \"AIDS\", \"siscel_cv_2020_2024_cd4_2020.parquet\"))"
   ]
  },
  {
   "cell_type": "markdown",
   "metadata": {},
   "source": [
    "**further testing for processing**"
   ]
  },
  {
   "cell_type": "code",
   "execution_count": 41,
   "metadata": {},
   "outputs": [
    {
     "data": {
      "application/vnd.microsoft.datawrangler.viewer.v0+json": {
       "columns": [
        {
         "name": "index",
         "rawType": "int64",
         "type": "integer"
        },
        {
         "name": "Código",
         "rawType": "int64",
         "type": "integer"
        },
        {
         "name": "Nome Civil",
         "rawType": "object",
         "type": "string"
        },
        {
         "name": "Nome Social",
         "rawType": "object",
         "type": "unknown"
        },
        {
         "name": "Mãe",
         "rawType": "object",
         "type": "string"
        },
        {
         "name": "Responsável",
         "rawType": "object",
         "type": "unknown"
        },
        {
         "name": "Sexo",
         "rawType": "object",
         "type": "string"
        },
        {
         "name": "Escolaridade",
         "rawType": "object",
         "type": "string"
        },
        {
         "name": "Raca/Cor",
         "rawType": "object",
         "type": "string"
        },
        {
         "name": "Data de Nascimento",
         "rawType": "object",
         "type": "string"
        },
        {
         "name": "Endereço",
         "rawType": "object",
         "type": "string"
        },
        {
         "name": "Bairro",
         "rawType": "object",
         "type": "string"
        },
        {
         "name": "CEP",
         "rawType": "object",
         "type": "string"
        },
        {
         "name": "UF de Residência",
         "rawType": "object",
         "type": "string"
        },
        {
         "name": "Cidade de Residência",
         "rawType": "object",
         "type": "string"
        },
        {
         "name": "Nº da Solicitação",
         "rawType": "int64",
         "type": "integer"
        },
        {
         "name": "Identificador da Amostra",
         "rawType": "object",
         "type": "string"
        },
        {
         "name": "Gestante",
         "rawType": "object",
         "type": "unknown"
        },
        {
         "name": "Idade Gestacional",
         "rawType": "object",
         "type": "string"
        },
        {
         "name": "Motivo pelo qual este exame está sendo solicitado",
         "rawType": "object",
         "type": "string"
        },
        {
         "name": "Data de Solicitação",
         "rawType": "object",
         "type": "string"
        },
        {
         "name": "Data da Coleta",
         "rawType": "object",
         "type": "string"
        },
        {
         "name": "Hora da Coleta",
         "rawType": "object",
         "type": "string"
        },
        {
         "name": "Data do Recebimento",
         "rawType": "object",
         "type": "string"
        },
        {
         "name": "Hora do Recebimento",
         "rawType": "object",
         "type": "string"
        },
        {
         "name": "Data da Execução",
         "rawType": "object",
         "type": "string"
        },
        {
         "name": "Hora da Execução",
         "rawType": "object",
         "type": "string"
        },
        {
         "name": "Digitado Em",
         "rawType": "object",
         "type": "string"
        },
        {
         "name": "Digitado Por",
         "rawType": "object",
         "type": "unknown"
        },
        {
         "name": "Tipo do Profissional",
         "rawType": "object",
         "type": "string"
        },
        {
         "name": "Nº do Conselho",
         "rawType": "float64",
         "type": "float"
        },
        {
         "name": "UF do Conselho",
         "rawType": "object",
         "type": "string"
        },
        {
         "name": "Instituicao Solicitante",
         "rawType": "object",
         "type": "string"
        },
        {
         "name": "UF Instituicao Solicitante",
         "rawType": "object",
         "type": "string"
        },
        {
         "name": "Cidade Instituicao Solicitante",
         "rawType": "object",
         "type": "string"
        },
        {
         "name": "Instituicao Coletora",
         "rawType": "object",
         "type": "string"
        },
        {
         "name": "UF Instituicao Coletora",
         "rawType": "object",
         "type": "string"
        },
        {
         "name": "Cidade Instituicao Coletora",
         "rawType": "object",
         "type": "string"
        },
        {
         "name": "Instituicao Executora",
         "rawType": "object",
         "type": "string"
        },
        {
         "name": "UF Instituicao Executora",
         "rawType": "object",
         "type": "string"
        },
        {
         "name": "Cidade Instituicao Executora",
         "rawType": "object",
         "type": "string"
        },
        {
         "name": "Cópias",
         "rawType": "object",
         "type": "string"
        },
        {
         "name": "Log",
         "rawType": "float64",
         "type": "float"
        },
        {
         "name": "Volume (ul)",
         "rawType": "float64",
         "type": "float"
        },
        {
         "name": "Método",
         "rawType": "object",
         "type": "string"
        },
        {
         "name": "Kit",
         "rawType": "object",
         "type": "string"
        },
        {
         "name": "Entrada",
         "rawType": "object",
         "type": "string"
        },
        {
         "name": "Digitado em",
         "rawType": "object",
         "type": "string"
        },
        {
         "name": "Digitado por",
         "rawType": "object",
         "type": "unknown"
        },
        {
         "name": "Observações",
         "rawType": "object",
         "type": "unknown"
        },
        {
         "name": "Data da Liberação",
         "rawType": "object",
         "type": "string"
        },
        {
         "name": "Hora da Liberação",
         "rawType": "object",
         "type": "string"
        },
        {
         "name": "Liberado Por",
         "rawType": "object",
         "type": "string"
        },
        {
         "name": "Projeto",
         "rawType": "object",
         "type": "unknown"
        },
        {
         "name": "TIPO",
         "rawType": "object",
         "type": "string"
        },
        {
         "name": "Dois últimos CD4 > 350 cel.mm³?",
         "rawType": "object",
         "type": "unknown"
        },
        {
         "name": "Paciente assintomático?",
         "rawType": "object",
         "type": "unknown"
        },
        {
         "name": "Carga Viral Indetectável?",
         "rawType": "object",
         "type": "unknown"
        },
        {
         "name": "Contagem CD4",
         "rawType": "float64",
         "type": "float"
        },
        {
         "name": "% CD4",
         "rawType": "float64",
         "type": "float"
        },
        {
         "name": "Contagem CD8",
         "rawType": "float64",
         "type": "float"
        },
        {
         "name": "% CD8",
         "rawType": "float64",
         "type": "float"
        },
        {
         "name": "Média CD3",
         "rawType": "float64",
         "type": "float"
        },
        {
         "name": "Linfócitos/CD45",
         "rawType": "float64",
         "type": "float"
        }
       ],
       "conversionMethod": "pd.DataFrame",
       "ref": "b8fde3d1-7390-46ca-9d92-6dd7689db03b",
       "rows": [
        [
         "0",
         "99775520",
         "Francisca Cláudia Oliveira de Souza",
         null,
         "Maria do Carmo Oliveira de Souza",
         null,
         "Feminino     ",
         "De 8 a 11 anos",
         "Parda",
         "13/01/1975",
         "AV D 531 CASA B ETAPA JOSE WALTER",
         "Conj José Walter",
         "60750010",
         "CE",
         "Fortaleza",
         "39807194",
         "2294-20",
         "Não          ",
         "",
         "Monitoramento de pessoas que ESTÃO em tratamento antirretroviral",
         "28/04/2020",
         "27/04/2020",
         "09:00",
         "28/04/2020",
         "10:00",
         "30/04/2020",
         "10:30",
         "30/04/2020",
         null,
         "Enfermeiro",
         "36404.0",
         "BA",
         "Centro de Referência Municipal de DST/Aids de Feira de Santana - Bahia",
         "BA",
         "Feira de Santana",
         "Laboratório de Retrovirus Hupes - UFBA",
         "BA",
         "Salvador",
         "Hospital Universitário Professor Edgar Santos - Universidade Federal da Bahia #",
         "BA",
         "Salvador",
         "Não Detectado              ",
         null,
         "600.0",
         "PCR Tempo Real",
         "Abbott RealTime HIV-1",
         "Importação",
         "08/05/2020",
         null,
         null,
         "11/05/2020",
         "14:37",
         "Jaqueline Dinis Queiroz Silva",
         null,
         "CV",
         null,
         null,
         null,
         null,
         null,
         null,
         null,
         null,
         null
        ],
        [
         "1",
         "99942466",
         "Aila Pinheiro do Nascimento",
         null,
         "Maria Margarida Pinheiro da Silva",
         null,
         "Feminino     ",
         "Ignorado",
         "Parda",
         "23/11/1982",
         "RUA ANTONIO ALVES COSTA, 150",
         "Zezinho Costa",
         "63540000",
         "CE",
         "Várzea Alegre",
         "39804283",
         "11152",
         "Não          ",
         "",
         "Monitoramento de pessoas que ESTÃO em tratamento antirretroviral",
         "20/04/2020",
         "23/04/2020",
         "07:00",
         "23/04/2020",
         "09:00",
         "27/04/2020",
         "17:11",
         "29/04/2020",
         null,
         "Médico",
         "9623.0",
         "CE",
         "Centro de Especialidades de Juazeiro do Norte",
         "CE",
         "Juazeiro do Norte",
         "Laboratório Central de Saúde Pública de Juazeiro do Norte",
         "CE",
         "Juazeiro do Norte",
         "Laboratório Central de Saúde Pública de Juazeiro do Norte",
         "CE",
         "Juazeiro do Norte",
         "6837                       ",
         "3.83",
         "600.0",
         "PCR Tempo Real",
         "Abbott RealTime HIV-1",
         "Manual    ",
         "30/04/2020",
         null,
         null,
         "30/04/2020",
         "09:20",
         "Maria Socorro de Lucena",
         null,
         "CV",
         null,
         null,
         null,
         null,
         null,
         null,
         null,
         null,
         null
        ],
        [
         "2",
         "147214",
         "Alisson David Izidio dos Santos",
         null,
         "Ana Regina Izidio Serafim",
         null,
         "Masculino    ",
         "De 12 e mais anos",
         "Preta",
         "19/06/2001",
         "RUA TODOS OS SANTOS, 1854",
         "Romeirão",
         "63050314",
         "CE",
         "Juazeiro do Norte",
         "39804703",
         "11142",
         null,
         "",
         "Monitoramento de pessoas que ESTÃO em tratamento antirretroviral",
         "13/04/2020",
         "16/04/2020",
         "07:00",
         "16/04/2020",
         "09:00",
         "27/04/2020",
         "17:11",
         "29/04/2020",
         null,
         "Médico",
         "9623.0",
         "CE",
         "Centro de Especialidades de Juazeiro do Norte",
         "CE",
         "Juazeiro do Norte",
         "Laboratório Central de Saúde Pública de Juazeiro do Norte",
         "CE",
         "Juazeiro do Norte",
         "Laboratório Central de Saúde Pública de Juazeiro do Norte",
         "CE",
         "Juazeiro do Norte",
         "Menor que o limite inferior",
         null,
         "600.0",
         "PCR Tempo Real",
         "Abbott RealTime HIV-1",
         "Manual    ",
         "30/04/2020",
         null,
         null,
         "30/04/2020",
         "09:13",
         "Maria Socorro de Lucena",
         null,
         "CV",
         null,
         null,
         null,
         null,
         null,
         null,
         null,
         null,
         null
        ],
        [
         "3",
         "99830400",
         "Aurilene Maria Ribeiro Silva",
         null,
         "Maria Joana da Conceicáo",
         null,
         "Feminino     ",
         "De 8 a 11 anos",
         "Parda",
         "28/08/1976",
         "AV PARANA, 421",
         "Romeirão",
         "63050620",
         "CE",
         "Juazeiro do Norte",
         "39816232",
         "11161",
         "Não          ",
         "",
         "Monitoramento de pessoas que ESTÃO em tratamento antirretroviral",
         "27/04/2020",
         "30/04/2020",
         "07:00",
         "30/04/2020",
         "09:00",
         "04/05/2020",
         "16:48",
         "06/05/2020",
         null,
         "Médico",
         "9623.0",
         "CE",
         "Centro de Especialidades de Juazeiro do Norte",
         "CE",
         "Juazeiro do Norte",
         "Laboratório Central de Saúde Pública de Juazeiro do Norte",
         "CE",
         "Juazeiro do Norte",
         "Laboratório Central de Saúde Pública de Juazeiro do Norte",
         "CE",
         "Juazeiro do Norte",
         "51                         ",
         "1.71",
         "600.0",
         "PCR Tempo Real",
         "Abbott RealTime HIV-1",
         "Manual    ",
         "07/05/2020",
         null,
         null,
         "07/05/2020",
         "15:39",
         "ALLAN DEMÉTRIUS LEITE DE OLIVEIRA",
         null,
         "CV",
         null,
         null,
         null,
         null,
         null,
         null,
         null,
         null,
         null
        ],
        [
         "4",
         "99078122",
         "Cicero Bento da Silva",
         null,
         "Francisca Lino da Silva",
         null,
         "Masculino    ",
         "Nenhuma",
         "Parda",
         "01/12/1973",
         "RUA MARIA BEZERRA DE ARAUJO 192",
         "rua claudio rodrigues, 1401, Caponga",
         "62850000",
         "CE",
         "Cascavel",
         "39804247",
         "11150",
         null,
         "",
         "Monitoramento de pessoas que ESTÃO em tratamento antirretroviral",
         "20/04/2020",
         "23/04/2020",
         "07:00",
         "23/04/2020",
         "09:00",
         "27/04/2020",
         "17:11",
         "29/04/2020",
         null,
         "Médico",
         "9623.0",
         "CE",
         "Centro de Especialidades de Juazeiro do Norte",
         "CE",
         "Juazeiro do Norte",
         "Laboratório Central de Saúde Pública de Juazeiro do Norte",
         "CE",
         "Juazeiro do Norte",
         "Laboratório Central de Saúde Pública de Juazeiro do Norte",
         "CE",
         "Juazeiro do Norte",
         "Não Detectado              ",
         null,
         "600.0",
         "PCR Tempo Real",
         "Abbott RealTime HIV-1",
         "Manual    ",
         "30/04/2020",
         null,
         null,
         "30/04/2020",
         "09:19",
         "Maria Socorro de Lucena",
         null,
         "CV",
         null,
         null,
         null,
         null,
         null,
         null,
         null,
         null,
         null
        ]
       ],
       "shape": {
        "columns": 63,
        "rows": 5
       }
      },
      "text/html": [
       "<div>\n",
       "<style scoped>\n",
       "    .dataframe tbody tr th:only-of-type {\n",
       "        vertical-align: middle;\n",
       "    }\n",
       "\n",
       "    .dataframe tbody tr th {\n",
       "        vertical-align: top;\n",
       "    }\n",
       "\n",
       "    .dataframe thead th {\n",
       "        text-align: right;\n",
       "    }\n",
       "</style>\n",
       "<table border=\"1\" class=\"dataframe\">\n",
       "  <thead>\n",
       "    <tr style=\"text-align: right;\">\n",
       "      <th></th>\n",
       "      <th>Código</th>\n",
       "      <th>Nome Civil</th>\n",
       "      <th>Nome Social</th>\n",
       "      <th>Mãe</th>\n",
       "      <th>Responsável</th>\n",
       "      <th>Sexo</th>\n",
       "      <th>Escolaridade</th>\n",
       "      <th>Raca/Cor</th>\n",
       "      <th>Data de Nascimento</th>\n",
       "      <th>Endereço</th>\n",
       "      <th>...</th>\n",
       "      <th>TIPO</th>\n",
       "      <th>Dois últimos CD4 &gt; 350 cel.mm³?</th>\n",
       "      <th>Paciente assintomático?</th>\n",
       "      <th>Carga Viral Indetectável?</th>\n",
       "      <th>Contagem CD4</th>\n",
       "      <th>% CD4</th>\n",
       "      <th>Contagem CD8</th>\n",
       "      <th>% CD8</th>\n",
       "      <th>Média CD3</th>\n",
       "      <th>Linfócitos/CD45</th>\n",
       "    </tr>\n",
       "  </thead>\n",
       "  <tbody>\n",
       "    <tr>\n",
       "      <th>0</th>\n",
       "      <td>99775520</td>\n",
       "      <td>Francisca Cláudia Oliveira de Souza</td>\n",
       "      <td>None</td>\n",
       "      <td>Maria do Carmo Oliveira de Souza</td>\n",
       "      <td>None</td>\n",
       "      <td>Feminino</td>\n",
       "      <td>De 8 a 11 anos</td>\n",
       "      <td>Parda</td>\n",
       "      <td>13/01/1975</td>\n",
       "      <td>AV D 531 CASA B ETAPA JOSE WALTER</td>\n",
       "      <td>...</td>\n",
       "      <td>CV</td>\n",
       "      <td>None</td>\n",
       "      <td>None</td>\n",
       "      <td>None</td>\n",
       "      <td>NaN</td>\n",
       "      <td>NaN</td>\n",
       "      <td>NaN</td>\n",
       "      <td>NaN</td>\n",
       "      <td>NaN</td>\n",
       "      <td>NaN</td>\n",
       "    </tr>\n",
       "    <tr>\n",
       "      <th>1</th>\n",
       "      <td>99942466</td>\n",
       "      <td>Aila Pinheiro do Nascimento</td>\n",
       "      <td>None</td>\n",
       "      <td>Maria Margarida Pinheiro da Silva</td>\n",
       "      <td>None</td>\n",
       "      <td>Feminino</td>\n",
       "      <td>Ignorado</td>\n",
       "      <td>Parda</td>\n",
       "      <td>23/11/1982</td>\n",
       "      <td>RUA ANTONIO ALVES COSTA, 150</td>\n",
       "      <td>...</td>\n",
       "      <td>CV</td>\n",
       "      <td>None</td>\n",
       "      <td>None</td>\n",
       "      <td>None</td>\n",
       "      <td>NaN</td>\n",
       "      <td>NaN</td>\n",
       "      <td>NaN</td>\n",
       "      <td>NaN</td>\n",
       "      <td>NaN</td>\n",
       "      <td>NaN</td>\n",
       "    </tr>\n",
       "    <tr>\n",
       "      <th>2</th>\n",
       "      <td>147214</td>\n",
       "      <td>Alisson David Izidio dos Santos</td>\n",
       "      <td>None</td>\n",
       "      <td>Ana Regina Izidio Serafim</td>\n",
       "      <td>None</td>\n",
       "      <td>Masculino</td>\n",
       "      <td>De 12 e mais anos</td>\n",
       "      <td>Preta</td>\n",
       "      <td>19/06/2001</td>\n",
       "      <td>RUA TODOS OS SANTOS, 1854</td>\n",
       "      <td>...</td>\n",
       "      <td>CV</td>\n",
       "      <td>None</td>\n",
       "      <td>None</td>\n",
       "      <td>None</td>\n",
       "      <td>NaN</td>\n",
       "      <td>NaN</td>\n",
       "      <td>NaN</td>\n",
       "      <td>NaN</td>\n",
       "      <td>NaN</td>\n",
       "      <td>NaN</td>\n",
       "    </tr>\n",
       "    <tr>\n",
       "      <th>3</th>\n",
       "      <td>99830400</td>\n",
       "      <td>Aurilene Maria Ribeiro Silva</td>\n",
       "      <td>None</td>\n",
       "      <td>Maria Joana da Conceicáo</td>\n",
       "      <td>None</td>\n",
       "      <td>Feminino</td>\n",
       "      <td>De 8 a 11 anos</td>\n",
       "      <td>Parda</td>\n",
       "      <td>28/08/1976</td>\n",
       "      <td>AV PARANA, 421</td>\n",
       "      <td>...</td>\n",
       "      <td>CV</td>\n",
       "      <td>None</td>\n",
       "      <td>None</td>\n",
       "      <td>None</td>\n",
       "      <td>NaN</td>\n",
       "      <td>NaN</td>\n",
       "      <td>NaN</td>\n",
       "      <td>NaN</td>\n",
       "      <td>NaN</td>\n",
       "      <td>NaN</td>\n",
       "    </tr>\n",
       "    <tr>\n",
       "      <th>4</th>\n",
       "      <td>99078122</td>\n",
       "      <td>Cicero Bento da Silva</td>\n",
       "      <td>None</td>\n",
       "      <td>Francisca Lino da Silva</td>\n",
       "      <td>None</td>\n",
       "      <td>Masculino</td>\n",
       "      <td>Nenhuma</td>\n",
       "      <td>Parda</td>\n",
       "      <td>01/12/1973</td>\n",
       "      <td>RUA MARIA BEZERRA DE ARAUJO 192</td>\n",
       "      <td>...</td>\n",
       "      <td>CV</td>\n",
       "      <td>None</td>\n",
       "      <td>None</td>\n",
       "      <td>None</td>\n",
       "      <td>NaN</td>\n",
       "      <td>NaN</td>\n",
       "      <td>NaN</td>\n",
       "      <td>NaN</td>\n",
       "      <td>NaN</td>\n",
       "      <td>NaN</td>\n",
       "    </tr>\n",
       "  </tbody>\n",
       "</table>\n",
       "<p>5 rows × 63 columns</p>\n",
       "</div>"
      ],
      "text/plain": [
       "     Código                           Nome Civil Nome Social  \\\n",
       "0  99775520  Francisca Cláudia Oliveira de Souza        None   \n",
       "1  99942466          Aila Pinheiro do Nascimento        None   \n",
       "2    147214      Alisson David Izidio dos Santos        None   \n",
       "3  99830400         Aurilene Maria Ribeiro Silva        None   \n",
       "4  99078122                Cicero Bento da Silva        None   \n",
       "\n",
       "                                 Mãe Responsável           Sexo  \\\n",
       "0   Maria do Carmo Oliveira de Souza        None  Feminino        \n",
       "1  Maria Margarida Pinheiro da Silva        None  Feminino        \n",
       "2          Ana Regina Izidio Serafim        None  Masculino       \n",
       "3           Maria Joana da Conceicáo        None  Feminino        \n",
       "4            Francisca Lino da Silva        None  Masculino       \n",
       "\n",
       "        Escolaridade Raca/Cor Data de Nascimento  \\\n",
       "0     De 8 a 11 anos    Parda         13/01/1975   \n",
       "1           Ignorado    Parda         23/11/1982   \n",
       "2  De 12 e mais anos    Preta         19/06/2001   \n",
       "3     De 8 a 11 anos    Parda         28/08/1976   \n",
       "4            Nenhuma    Parda         01/12/1973   \n",
       "\n",
       "                            Endereço  ... TIPO  \\\n",
       "0  AV D 531 CASA B ETAPA JOSE WALTER  ...   CV   \n",
       "1       RUA ANTONIO ALVES COSTA, 150  ...   CV   \n",
       "2          RUA TODOS OS SANTOS, 1854  ...   CV   \n",
       "3                     AV PARANA, 421  ...   CV   \n",
       "4    RUA MARIA BEZERRA DE ARAUJO 192  ...   CV   \n",
       "\n",
       "  Dois últimos CD4 > 350 cel.mm³? Paciente assintomático?  \\\n",
       "0                            None                    None   \n",
       "1                            None                    None   \n",
       "2                            None                    None   \n",
       "3                            None                    None   \n",
       "4                            None                    None   \n",
       "\n",
       "  Carga Viral Indetectável?  Contagem CD4 % CD4 Contagem CD8 % CD8 Média CD3  \\\n",
       "0                      None           NaN   NaN          NaN   NaN       NaN   \n",
       "1                      None           NaN   NaN          NaN   NaN       NaN   \n",
       "2                      None           NaN   NaN          NaN   NaN       NaN   \n",
       "3                      None           NaN   NaN          NaN   NaN       NaN   \n",
       "4                      None           NaN   NaN          NaN   NaN       NaN   \n",
       "\n",
       "  Linfócitos/CD45  \n",
       "0             NaN  \n",
       "1             NaN  \n",
       "2             NaN  \n",
       "3             NaN  \n",
       "4             NaN  \n",
       "\n",
       "[5 rows x 63 columns]"
      ]
     },
     "execution_count": 41,
     "metadata": {},
     "output_type": "execute_result"
    }
   ],
   "source": [
    "siscel_df = pd.read_parquet(basepath.joinpath(\"sinan\", \"AIDS\", \"siscel_cv_2020_2024_cd4_2020.parquet\"))\n",
    "siscel_df.head()"
   ]
  },
  {
   "cell_type": "code",
   "execution_count": 46,
   "metadata": {},
   "outputs": [
    {
     "data": {
      "text/plain": [
       "Cópias\n",
       "Não Detectado                  84073\n",
       "Menor que o limite inferior    27000\n",
       "20                               411\n",
       "21                               403\n",
       "23                               359\n",
       "22                               358\n",
       "26                               316\n",
       "25                               315\n",
       "24                               310\n",
       "40                               301\n",
       "29                               256\n",
       "27                               254\n",
       "28                               250\n",
       "30                               238\n",
       "31                               237\n",
       "45                               218\n",
       "42                               218\n",
       "41                               210\n",
       "44                               208\n",
       "43                               200\n",
       "Name: count, dtype: int64"
      ]
     },
     "execution_count": 46,
     "metadata": {},
     "output_type": "execute_result"
    }
   ],
   "source": [
    "siscel_df[\"Cópias\"].value_counts()[:20]\n",
    "    "
   ]
  },
  {
   "cell_type": "code",
   "execution_count": null,
   "metadata": {},
   "outputs": [],
   "source": []
  },
  {
   "cell_type": "code",
   "execution_count": null,
   "metadata": {},
   "outputs": [],
   "source": []
  },
  {
   "cell_type": "code",
   "execution_count": null,
   "metadata": {},
   "outputs": [],
   "source": []
  }
 ],
 "metadata": {
  "kernelspec": {
   "display_name": "sesa",
   "language": "python",
   "name": "python3"
  },
  "language_info": {
   "codemirror_mode": {
    "name": "ipython",
    "version": 3
   },
   "file_extension": ".py",
   "mimetype": "text/x-python",
   "name": "python",
   "nbconvert_exporter": "python",
   "pygments_lexer": "ipython3",
   "version": "3.11.9"
  }
 },
 "nbformat": 4,
 "nbformat_minor": 2
}
