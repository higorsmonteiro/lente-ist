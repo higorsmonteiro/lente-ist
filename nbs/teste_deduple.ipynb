{
 "cells": [
  {
   "cell_type": "code",
   "execution_count": 1,
   "metadata": {},
   "outputs": [
    {
     "name": "stdout",
     "output_type": "stream",
     "text": [
      "PyTables is not installed. No support for HDF output.\n"
     ]
    }
   ],
   "source": [
    "import sys\n",
    "sys.path.append(\"..\")\n",
    "\n",
    "from pathlib import Path\n",
    "import numpy as np\n",
    "import pandas as pd\n",
    "import datetime as dt\n",
    "from simpledbf import Dbf5\n",
    "from lente_ist import WarehouseIST, DedupleAgent\n",
    "from lente_ist.utils import select_folder\n",
    "\n",
    "warehouse_location = Path.home().joinpath(\"Documents\", \"data\", \"sinan\", \"aids\", \"SQL_WAREHOUSE\")\n",
    "path_to_models = Path.cwd().parent.joinpath(\"lente_ist\", \"ml_models\")\n",
    "warehouse_name = \"ist_pessoa.db\""
   ]
  },
  {
   "cell_type": "code",
   "execution_count": 2,
   "metadata": {},
   "outputs": [
    {
     "name": "stderr",
     "output_type": "stream",
     "text": [
      "c:\\Users\\Higor Monteiro\\anaconda3\\envs\\mywork\\Lib\\site-packages\\sklearn\\base.py:318: UserWarning: Trying to unpickle estimator DummyClassifier from version 1.1.2 when using version 1.2.2. This might lead to breaking code or invalid results. Use at your own risk. For more info please refer to:\n",
      "https://scikit-learn.org/stable/model_persistence.html#security-maintainability-limitations\n",
      "  warnings.warn(\n",
      "c:\\Users\\Higor Monteiro\\anaconda3\\envs\\mywork\\Lib\\site-packages\\sklearn\\base.py:318: UserWarning: Trying to unpickle estimator DecisionTreeRegressor from version 1.1.2 when using version 1.2.2. This might lead to breaking code or invalid results. Use at your own risk. For more info please refer to:\n",
      "https://scikit-learn.org/stable/model_persistence.html#security-maintainability-limitations\n",
      "  warnings.warn(\n",
      "c:\\Users\\Higor Monteiro\\anaconda3\\envs\\mywork\\Lib\\site-packages\\sklearn\\base.py:318: UserWarning: Trying to unpickle estimator GradientBoostingClassifier from version 1.1.2 when using version 1.2.2. This might lead to breaking code or invalid results. Use at your own risk. For more info please refer to:\n",
      "https://scikit-learn.org/stable/model_persistence.html#security-maintainability-limitations\n",
      "  warnings.warn(\n",
      "c:\\Users\\Higor Monteiro\\anaconda3\\envs\\mywork\\Lib\\site-packages\\sklearn\\base.py:318: UserWarning: Trying to unpickle estimator DecisionTreeClassifier from version 1.1.2 when using version 1.2.2. This might lead to breaking code or invalid results. Use at your own risk. For more info please refer to:\n",
      "https://scikit-learn.org/stable/model_persistence.html#security-maintainability-limitations\n",
      "  warnings.warn(\n",
      "c:\\Users\\Higor Monteiro\\anaconda3\\envs\\mywork\\Lib\\site-packages\\sklearn\\base.py:318: UserWarning: Trying to unpickle estimator RandomForestClassifier from version 1.1.2 when using version 1.2.2. This might lead to breaking code or invalid results. Use at your own risk. For more info please refer to:\n",
      "https://scikit-learn.org/stable/model_persistence.html#security-maintainability-limitations\n",
      "  warnings.warn(\n",
      "c:\\Users\\Higor Monteiro\\anaconda3\\envs\\mywork\\Lib\\site-packages\\sklearn\\base.py:318: UserWarning: Trying to unpickle estimator LogisticRegression from version 1.1.2 when using version 1.2.2. This might lead to breaking code or invalid results. Use at your own risk. For more info please refer to:\n",
      "https://scikit-learn.org/stable/model_persistence.html#security-maintainability-limitations\n",
      "  warnings.warn(\n"
     ]
    },
    {
     "name": "stdout",
     "output_type": "stream",
     "text": [
      "Number of pairs: 3165696\n",
      "Pairs to be effectively compared: 3165696\n",
      "Matching subset batch 1/10 of size 316570 ...\n",
      "Matching subset batch 2/10 of size 316570 ...\n",
      "Matching subset batch 3/10 of size 316570 ...\n",
      "Matching subset batch 4/10 of size 316570 ...\n",
      "Matching subset batch 5/10 of size 316570 ...\n",
      "Matching subset batch 6/10 of size 316570 ...\n",
      "Matching subset batch 7/10 of size 316569 ...\n",
      "Matching subset batch 8/10 of size 316569 ...\n",
      "Matching subset batch 9/10 of size 316569 ...\n",
      "Matching subset batch 10/10 of size 316569 ...\n",
      "Done.\n"
     ]
    },
    {
     "ename": "NameError",
     "evalue": "name 'tqdm' is not defined",
     "output_type": "error",
     "traceback": [
      "\u001b[1;31m---------------------------------------------------------------------------\u001b[0m",
      "\u001b[1;31mNameError\u001b[0m                                 Traceback (most recent call last)",
      "Cell \u001b[1;32mIn[2], line 2\u001b[0m\n\u001b[0;32m      1\u001b[0m agent \u001b[38;5;241m=\u001b[39m DedupleAgent(warehouse_location, warehouse_name, path_to_models, field_id\u001b[38;5;241m=\u001b[39m\u001b[38;5;124m\"\u001b[39m\u001b[38;5;124mID\u001b[39m\u001b[38;5;124m\"\u001b[39m)\n\u001b[1;32m----> 2\u001b[0m \u001b[43magent\u001b[49m\u001b[38;5;241;43m.\u001b[39;49m\u001b[43mretrieve_compared_pairs\u001b[49m\u001b[43m(\u001b[49m\u001b[43m)\u001b[49m\u001b[38;5;241;43m.\u001b[39;49m\u001b[43mperform\u001b[49m\u001b[43m(\u001b[49m\u001b[43mnumber_of_blocks\u001b[49m\u001b[38;5;241;43m=\u001b[39;49m\u001b[38;5;241;43m10\u001b[39;49m\u001b[43m)\u001b[49m\n",
      "File \u001b[1;32mc:\\Users\\Higor Monteiro\\Documents\\code\\lente-ist\\nbs\\..\\lente_ist\\agents\\deduple_agent.py:88\u001b[0m, in \u001b[0;36mDedupleAgent.perform\u001b[1;34m(self, period, number_of_blocks)\u001b[0m\n\u001b[0;32m     86\u001b[0m batchsize \u001b[38;5;241m=\u001b[39m \u001b[38;5;241m6000\u001b[39m\n\u001b[0;32m     87\u001b[0m Y_neg1, Y_neg2, Y_neg3 \u001b[38;5;241m=\u001b[39m [], [], []\n\u001b[1;32m---> 88\u001b[0m \u001b[38;5;28;01mfor\u001b[39;00m batch \u001b[38;5;129;01min\u001b[39;00m \u001b[43mtqdm\u001b[49m(np\u001b[38;5;241m.\u001b[39marray_split(X_sel, np\u001b[38;5;241m.\u001b[39marange(batchsize, X_sel\u001b[38;5;241m.\u001b[39mshape[\u001b[38;5;241m0\u001b[39m]\u001b[38;5;241m+\u001b[39m\u001b[38;5;241m1\u001b[39m, batchsize))):\n\u001b[0;32m     89\u001b[0m     Y_neg1 \u001b[38;5;241m+\u001b[39m\u001b[38;5;241m=\u001b[39m [ res[\u001b[38;5;241m0\u001b[39m] \u001b[38;5;28;01mfor\u001b[39;00m res \u001b[38;5;129;01min\u001b[39;00m gbt_model\u001b[38;5;241m.\u001b[39mpredict_proba(batch) ]\n\u001b[0;32m     90\u001b[0m     Y_neg2 \u001b[38;5;241m+\u001b[39m\u001b[38;5;241m=\u001b[39m [ res[\u001b[38;5;241m0\u001b[39m] \u001b[38;5;28;01mfor\u001b[39;00m res \u001b[38;5;129;01min\u001b[39;00m rnf_model\u001b[38;5;241m.\u001b[39mpredict_proba(batch) ]\n",
      "\u001b[1;31mNameError\u001b[0m: name 'tqdm' is not defined"
     ]
    }
   ],
   "source": [
    "agent = DedupleAgent(warehouse_location, warehouse_name, path_to_models, field_id=\"ID\")\n",
    "agent.retrieve_compared_pairs().perform(number_of_blocks=10)"
   ]
  },
  {
   "cell_type": "code",
   "execution_count": null,
   "metadata": {},
   "outputs": [],
   "source": [
    "dedupler = agent.deduple"
   ]
  },
  {
   "cell_type": "code",
   "execution_count": 4,
   "metadata": {},
   "outputs": [
    {
     "data": {
      "text/plain": [
       "True"
      ]
     },
     "execution_count": 4,
     "metadata": {},
     "output_type": "execute_result"
    }
   ],
   "source": [
    "index = list(dedupler.left_df.index)\n",
    "len(index) == len(set(index))"
   ]
  },
  {
   "cell_type": "code",
   "execution_count": 7,
   "metadata": {},
   "outputs": [],
   "source": [
    "pairs = dedupler.candidate_pairs"
   ]
  },
  {
   "cell_type": "code",
   "execution_count": 8,
   "metadata": {},
   "outputs": [
    {
     "data": {
      "text/plain": [
       "Index(['NOME_PACIENTE', 'NOME_MAE', 'DATA_NASCIMENTO', 'primeiro_nome',\n",
       "       'complemento_nome', 'primeiro_nome_mae', 'complemento_nome_mae',\n",
       "       'nascimento_dia', 'nascimento_mes', 'nascimento_ano', 'FONETICA_N',\n",
       "       'norm_primeiro_nome', 'rank_primeiro_nome', 'norm_primeiro_nome_mae',\n",
       "       'rank_primeiro_nome_mae', 'sexo', 'cns', 'bairro', 'cep'],\n",
       "      dtype='object')"
      ]
     },
     "execution_count": 8,
     "metadata": {},
     "output_type": "execute_result"
    }
   ],
   "source": [
    "dedupler.left_df.columns"
   ]
  },
  {
   "cell_type": "code",
   "execution_count": 10,
   "metadata": {},
   "outputs": [
    {
     "data": {
      "text/plain": [
       "MultiIndex([('B24001893323076521012009', 'B24001789223076516102008'),\n",
       "            ('B24005606923044015062016', 'B24001826123044016072015'),\n",
       "            ('B24005606923044015062016',                '69100552 '),\n",
       "            (               '99166656 ', 'B24001826123044016072015'),\n",
       "            (               '99166656 ',                '69100552 '),\n",
       "            ('B24003982423044027032024', 'B24001826123044016072015'),\n",
       "            ('B24003982423044027032024',                '69100552 '),\n",
       "            ('B24003982423044027032024', 'B24006303723044027052022'),\n",
       "            ('B24003982423044027032024',                '00068500 '),\n",
       "            (               '00255362 ', 'B24003703623044003102018'),\n",
       "            ...\n",
       "            (               '00798377 ',                '00160769 '),\n",
       "            (               '00798377 ', 'B24003526623044006032024'),\n",
       "            (               '00798641 ', 'B24000049823044008022021'),\n",
       "            (               '00798748 ', 'B24201848923017021082018'),\n",
       "            (               '00798748 ',                '49706410 '),\n",
       "            (               '00615469 ',                '23406537 '),\n",
       "            (               '00615469 ', 'B24003898623044027092014'),\n",
       "            (               '00799112 ',                '00335401 '),\n",
       "            (               '00797710 ', 'B24002016723044005032015'),\n",
       "            (               '00797710 ',                '99276285 ')],\n",
       "           names=['ID_1', 'ID_2'], length=3165696)"
      ]
     },
     "execution_count": 10,
     "metadata": {},
     "output_type": "execute_result"
    }
   ],
   "source": [
    "pairs"
   ]
  },
  {
   "cell_type": "code",
   "execution_count": null,
   "metadata": {},
   "outputs": [],
   "source": []
  }
 ],
 "metadata": {
  "kernelspec": {
   "display_name": "mywork",
   "language": "python",
   "name": "python3"
  },
  "language_info": {
   "codemirror_mode": {
    "name": "ipython",
    "version": 3
   },
   "file_extension": ".py",
   "mimetype": "text/x-python",
   "name": "python",
   "nbconvert_exporter": "python",
   "pygments_lexer": "ipython3",
   "version": "3.11.5"
  }
 },
 "nbformat": 4,
 "nbformat_minor": 2
}
